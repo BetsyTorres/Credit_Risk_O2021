{
 "cells": [
  {
   "cell_type": "code",
   "execution_count": 21,
   "metadata": {},
   "outputs": [],
   "source": [
    "import pandas as pd\n",
    "from typing import Dict"
   ]
  },
  {
   "cell_type": "code",
   "execution_count": 23,
   "metadata": {},
   "outputs": [],
   "source": [
    "bins = {\n",
    "     \"age\": [\n",
    "         {\n",
    "             \"label\": \"minor\",\n",
    "             \"max\": 18\n",
    "         },\n",
    "         {\n",
    "             \"label\": \"young-adult\",\n",
    "             \"max\": 30\n",
    "         },\n",
    "         {\n",
    "             \"label\": \"adult\",\n",
    "             \"max\": 50\n",
    "         },\n",
    "         {\n",
    "             \"label\": \"senior\",\n",
    "             \"max\": 100\n",
    "         }\n",
    "    ],\n",
    "    \"income\": [\n",
    "         {\n",
    "             \"label\": \"junior\",\n",
    "             \"max\": 25000\n",
    "         },\n",
    "         {\n",
    "             \"label\": \"mid\",\n",
    "             \"max\": 60000\n",
    "         },\n",
    "         {\n",
    "             \"label\": \"senior\",\n",
    "             \"max\": 100000\n",
    "         }\n",
    "    ]\n",
    "}\n"
   ]
  },
  {
   "cell_type": "code",
   "execution_count": 24,
   "metadata": {},
   "outputs": [
    {
     "data": {
      "text/html": [
       "<div>\n",
       "<style scoped>\n",
       "    .dataframe tbody tr th:only-of-type {\n",
       "        vertical-align: middle;\n",
       "    }\n",
       "\n",
       "    .dataframe tbody tr th {\n",
       "        vertical-align: top;\n",
       "    }\n",
       "\n",
       "    .dataframe thead th {\n",
       "        text-align: right;\n",
       "    }\n",
       "</style>\n",
       "<table border=\"1\" class=\"dataframe\">\n",
       "  <thead>\n",
       "    <tr style=\"text-align: right;\">\n",
       "      <th></th>\n",
       "      <th>age</th>\n",
       "      <th>income</th>\n",
       "    </tr>\n",
       "  </thead>\n",
       "  <tbody>\n",
       "    <tr>\n",
       "      <th>0</th>\n",
       "      <td>25</td>\n",
       "      <td>75000</td>\n",
       "    </tr>\n",
       "    <tr>\n",
       "      <th>1</th>\n",
       "      <td>28</td>\n",
       "      <td>55000</td>\n",
       "    </tr>\n",
       "    <tr>\n",
       "      <th>2</th>\n",
       "      <td>17</td>\n",
       "      <td>5000</td>\n",
       "    </tr>\n",
       "    <tr>\n",
       "      <th>3</th>\n",
       "      <td>32</td>\n",
       "      <td>98000</td>\n",
       "    </tr>\n",
       "    <tr>\n",
       "      <th>4</th>\n",
       "      <td>40</td>\n",
       "      <td>62000</td>\n",
       "    </tr>\n",
       "  </tbody>\n",
       "</table>\n",
       "</div>"
      ],
      "text/plain": [
       "   age  income\n",
       "0   25   75000\n",
       "1   28   55000\n",
       "2   17    5000\n",
       "3   32   98000\n",
       "4   40   62000"
      ]
     },
     "execution_count": 24,
     "metadata": {},
     "output_type": "execute_result"
    }
   ],
   "source": [
    "data = pd.DataFrame(\n",
    " [(25, 75000), (28, 55000), (17, 5000), (32, 98000), (40, 62000)],\n",
    " columns=[\"age\", \"income\"]\n",
    ")\n",
    "data"
   ]
  },
  {
   "cell_type": "code",
   "execution_count": 25,
   "metadata": {},
   "outputs": [],
   "source": [
    "# Prueba para separar en listas\n",
    "age_max = []\n",
    "for i in range(len(bins[\"age\"])):\n",
    "     age_max.append(bins[\"age\"][i][\"max\"])\n",
    "age_label = []\n",
    "for i in range(len(bins[\"age\"])):\n",
    "     age_label.append(bins[\"age\"][i][\"label\"])\n",
    "income_max = []\n",
    "for i in range(len(bins[\"income\"])):\n",
    "     income_max.append(bins[\"income\"][i][\"max\"])\n",
    "income_label = []\n",
    "for i in range(len(bins[\"income\"])):\n",
    "     income_label.append(bins[\"income\"][i][\"label\"])"
   ]
  },
  {
   "cell_type": "code",
   "execution_count": 26,
   "metadata": {},
   "outputs": [
    {
     "data": {
      "text/plain": [
       "([18, 30, 50, 100], ['minor', 'young-adult', 'adult', 'senior'])"
      ]
     },
     "execution_count": 26,
     "metadata": {},
     "output_type": "execute_result"
    }
   ],
   "source": [
    "age_max, age_label"
   ]
  },
  {
   "cell_type": "code",
   "execution_count": 27,
   "metadata": {},
   "outputs": [
    {
     "data": {
      "text/plain": [
       "([25000, 60000, 100000], ['junior', 'mid', 'senior'])"
      ]
     },
     "execution_count": 27,
     "metadata": {},
     "output_type": "execute_result"
    }
   ],
   "source": [
    "income_max, income_label"
   ]
  },
  {
   "cell_type": "code",
   "execution_count": 28,
   "metadata": {},
   "outputs": [],
   "source": [
    "def categorize(data: pd.DataFrame, bins: Dict) -> pd.DataFrame:\n",
    " # Convertimos bins en listas para cada uno de age e income\n",
    "    age_max = []\n",
    "    for i in range(len(bins[\"age\"])):\n",
    "         age_max.append(bins[\"age\"][i][\"max\"])\n",
    "    age_label = []\n",
    "    for i in range(len(bins[\"age\"])):\n",
    "        age_label.append(bins[\"age\"][i][\"label\"])\n",
    "    income_max = []\n",
    "    for i in range(len(bins[\"income\"])):\n",
    "        income_max.append(bins[\"income\"][i][\"max\"])\n",
    "    income_label = []\n",
    "    for i in range(len(bins[\"income\"])):\n",
    "        income_label.append(bins[\"income\"][i][\"label\"])\n",
    "    #Cambiamos si es 18 o 30 0 50 o 100 por el label usado\n",
    "    age_letters = []\n",
    "    for i in range(len(data[\"age\"])):\n",
    "        if data[\"age\"][i] <= age_max[0]:\n",
    "             age_letters.append(age_label[0])\n",
    "        elif data[\"age\"][i] <= age_max[1]:\n",
    "             age_letters.append(age_label[1])\n",
    "        elif data[\"age\"][i] <= age_max[2]:\n",
    "             age_letters.append(age_label[2])\n",
    "        else:\n",
    "             age_letters.append(age_label[3])\n",
    "\n",
    "     # Cambiamos 25000 o 60000 o 100000 por el label usado\n",
    "    income_letters = []\n",
    "    for i in range(len(data[\"income\"])):\n",
    "        if data[\"income\"][i] <= income_max[0]:\n",
    "            income_letters.append(income_label[0])\n",
    "        elif data[\"income\"][i] <= income_max[1]:\n",
    "            income_letters.append(income_label[1])\n",
    "        else:\n",
    "            income_letters.append(income_label[2])\n",
    "\n",
    "    new_data = pd.DataFrame()\n",
    "    new_data[\"age\"] = age_letters\n",
    "    new_data[\"income\"] = income_letters\n",
    "    return new_data"
   ]
  },
  {
   "cell_type": "code",
   "execution_count": 29,
   "metadata": {},
   "outputs": [
    {
     "data": {
      "text/html": [
       "<div>\n",
       "<style scoped>\n",
       "    .dataframe tbody tr th:only-of-type {\n",
       "        vertical-align: middle;\n",
       "    }\n",
       "\n",
       "    .dataframe tbody tr th {\n",
       "        vertical-align: top;\n",
       "    }\n",
       "\n",
       "    .dataframe thead th {\n",
       "        text-align: right;\n",
       "    }\n",
       "</style>\n",
       "<table border=\"1\" class=\"dataframe\">\n",
       "  <thead>\n",
       "    <tr style=\"text-align: right;\">\n",
       "      <th></th>\n",
       "      <th>age</th>\n",
       "      <th>income</th>\n",
       "    </tr>\n",
       "  </thead>\n",
       "  <tbody>\n",
       "    <tr>\n",
       "      <th>0</th>\n",
       "      <td>young-adult</td>\n",
       "      <td>senior</td>\n",
       "    </tr>\n",
       "    <tr>\n",
       "      <th>1</th>\n",
       "      <td>young-adult</td>\n",
       "      <td>mid</td>\n",
       "    </tr>\n",
       "    <tr>\n",
       "      <th>2</th>\n",
       "      <td>minor</td>\n",
       "      <td>junior</td>\n",
       "    </tr>\n",
       "    <tr>\n",
       "      <th>3</th>\n",
       "      <td>adult</td>\n",
       "      <td>senior</td>\n",
       "    </tr>\n",
       "    <tr>\n",
       "      <th>4</th>\n",
       "      <td>adult</td>\n",
       "      <td>senior</td>\n",
       "    </tr>\n",
       "  </tbody>\n",
       "</table>\n",
       "</div>"
      ],
      "text/plain": [
       "           age  income\n",
       "0  young-adult  senior\n",
       "1  young-adult     mid\n",
       "2        minor  junior\n",
       "3        adult  senior\n",
       "4        adult  senior"
      ]
     },
     "execution_count": 29,
     "metadata": {},
     "output_type": "execute_result"
    }
   ],
   "source": [
    "output = categorize(data, bins)\n",
    "output"
   ]
  },
  {
   "cell_type": "code",
   "execution_count": null,
   "metadata": {},
   "outputs": [],
   "source": []
  },
  {
   "cell_type": "code",
   "execution_count": null,
   "metadata": {},
   "outputs": [],
   "source": []
  }
 ],
 "metadata": {
  "kernelspec": {
   "display_name": "Python 3",
   "language": "python",
   "name": "python3"
  },
  "language_info": {
   "codemirror_mode": {
    "name": "ipython",
    "version": 3
   },
   "file_extension": ".py",
   "mimetype": "text/x-python",
   "name": "python",
   "nbconvert_exporter": "python",
   "pygments_lexer": "ipython3",
   "version": "3.8.3"
  }
 },
 "nbformat": 4,
 "nbformat_minor": 4
}
